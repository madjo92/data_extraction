{
 "cells": [
  {
   "cell_type": "code",
   "execution_count": 6,
   "id": "9021dc16",
   "metadata": {},
   "outputs": [],
   "source": [
    "from bs4 import BeautifulSoup as bs\n",
    "import requests\n",
    "import pandas as pd"
   ]
  },
  {
   "cell_type": "code",
   "execution_count": 2,
   "id": "02028317",
   "metadata": {},
   "outputs": [],
   "source": [
    "url='https://finance.yahoo.com/quote/AAPL?p=AAPL'\n",
    "r = requests.get(url)\n",
    "soup = bs(r.content)\n",
    "trs= soup.find_all('tr')"
   ]
  },
  {
   "cell_type": "code",
   "execution_count": 3,
   "id": "b20c0983",
   "metadata": {},
   "outputs": [
    {
     "name": "stdout",
     "output_type": "stream",
     "text": [
      "149.99\n"
     ]
    }
   ],
   "source": [
    "#finding one value \n",
    "print(trs[0].contents[1].text)"
   ]
  },
  {
   "cell_type": "code",
   "execution_count": 36,
   "id": "d033d79a",
   "metadata": {},
   "outputs": [
    {
     "name": "stdout",
     "output_type": "stream",
     "text": [
      "{'Previous Close': '149.99', 'Open': '150.37', 'Bid': '0.00 x 900', 'Ask': '0.00 x 3000', \"Day's Range\": '149.43 - 151.88', '52 Week Range': '112.59 - 157.26', 'Volume': '55,958,623', 'Avg. Volume': '75,722,023', 'Market Cap': '2.461T', 'Beta (5Y Monthly)': '1.21', 'PE Ratio (TTM)': '26.74', 'EPS (TTM)': '5.61', 'Earnings Date': 'Jan 25, 2022 - Jan 31, 2022', 'Forward Dividend & Yield': '0.88 (0.59%)', 'Ex-Dividend Date': 'Nov 05, 2021', '1y Target Est': '168.45'}\n"
     ]
    }
   ],
   "source": [
    "# loop to find all names and values\n",
    "finalTag= '1y Target Est'\n",
    "namVal = {}\n",
    "names = []\n",
    "values = []\n",
    "for i in range(len(trs)):\n",
    "    for j in range(len(trs[i].contents)):\n",
    "        if j==0:\n",
    "            try:\n",
    "                name = trs[i].contents[j].text\n",
    "                names.append(name)\n",
    "            except:\n",
    "                continue\n",
    "        if j==1:\n",
    "            try:\n",
    "                value = trs[i].contents[j].text\n",
    "                values.append(value)\n",
    "            except:\n",
    "                continue\n",
    "    namVal[name]=value\n",
    "    if name == finalTag:\n",
    "        break\n",
    "\n",
    "        \n",
    "print(namVal)\n"
   ]
  },
  {
   "cell_type": "code",
   "execution_count": 11,
   "id": "589b6cdb",
   "metadata": {},
   "outputs": [],
   "source": [
    "a= pd.DataFrame(namVal.items(), columns=['Name', 'Value'])"
   ]
  },
  {
   "cell_type": "code",
   "execution_count": 12,
   "id": "753450c5",
   "metadata": {},
   "outputs": [
    {
     "data": {
      "text/html": [
       "<div>\n",
       "<style scoped>\n",
       "    .dataframe tbody tr th:only-of-type {\n",
       "        vertical-align: middle;\n",
       "    }\n",
       "\n",
       "    .dataframe tbody tr th {\n",
       "        vertical-align: top;\n",
       "    }\n",
       "\n",
       "    .dataframe thead th {\n",
       "        text-align: right;\n",
       "    }\n",
       "</style>\n",
       "<table border=\"1\" class=\"dataframe\">\n",
       "  <thead>\n",
       "    <tr style=\"text-align: right;\">\n",
       "      <th></th>\n",
       "      <th>Name</th>\n",
       "      <th>Value</th>\n",
       "    </tr>\n",
       "  </thead>\n",
       "  <tbody>\n",
       "    <tr>\n",
       "      <th>0</th>\n",
       "      <td>Previous Close</td>\n",
       "      <td>149.99</td>\n",
       "    </tr>\n",
       "    <tr>\n",
       "      <th>1</th>\n",
       "      <td>Open</td>\n",
       "      <td>150.37</td>\n",
       "    </tr>\n",
       "    <tr>\n",
       "      <th>2</th>\n",
       "      <td>Bid</td>\n",
       "      <td>0.00 x 900</td>\n",
       "    </tr>\n",
       "    <tr>\n",
       "      <th>3</th>\n",
       "      <td>Ask</td>\n",
       "      <td>0.00 x 3000</td>\n",
       "    </tr>\n",
       "    <tr>\n",
       "      <th>4</th>\n",
       "      <td>Day's Range</td>\n",
       "      <td>149.43 - 151.88</td>\n",
       "    </tr>\n",
       "    <tr>\n",
       "      <th>5</th>\n",
       "      <td>52 Week Range</td>\n",
       "      <td>112.59 - 157.26</td>\n",
       "    </tr>\n",
       "    <tr>\n",
       "      <th>6</th>\n",
       "      <td>Volume</td>\n",
       "      <td>55,958,623</td>\n",
       "    </tr>\n",
       "    <tr>\n",
       "      <th>7</th>\n",
       "      <td>Avg. Volume</td>\n",
       "      <td>75,722,023</td>\n",
       "    </tr>\n",
       "    <tr>\n",
       "      <th>8</th>\n",
       "      <td>Market Cap</td>\n",
       "      <td>2.461T</td>\n",
       "    </tr>\n",
       "    <tr>\n",
       "      <th>9</th>\n",
       "      <td>Beta (5Y Monthly)</td>\n",
       "      <td>1.21</td>\n",
       "    </tr>\n",
       "    <tr>\n",
       "      <th>10</th>\n",
       "      <td>PE Ratio (TTM)</td>\n",
       "      <td>26.74</td>\n",
       "    </tr>\n",
       "    <tr>\n",
       "      <th>11</th>\n",
       "      <td>EPS (TTM)</td>\n",
       "      <td>5.61</td>\n",
       "    </tr>\n",
       "    <tr>\n",
       "      <th>12</th>\n",
       "      <td>Earnings Date</td>\n",
       "      <td>Jan 25, 2022 - Jan 31, 2022</td>\n",
       "    </tr>\n",
       "    <tr>\n",
       "      <th>13</th>\n",
       "      <td>Forward Dividend &amp; Yield</td>\n",
       "      <td>0.88 (0.59%)</td>\n",
       "    </tr>\n",
       "    <tr>\n",
       "      <th>14</th>\n",
       "      <td>Ex-Dividend Date</td>\n",
       "      <td>Nov 05, 2021</td>\n",
       "    </tr>\n",
       "    <tr>\n",
       "      <th>15</th>\n",
       "      <td>1y Target Est</td>\n",
       "      <td>168.45</td>\n",
       "    </tr>\n",
       "  </tbody>\n",
       "</table>\n",
       "</div>"
      ],
      "text/plain": [
       "                        Name                        Value\n",
       "0             Previous Close                       149.99\n",
       "1                       Open                       150.37\n",
       "2                        Bid                   0.00 x 900\n",
       "3                        Ask                  0.00 x 3000\n",
       "4                Day's Range              149.43 - 151.88\n",
       "5              52 Week Range              112.59 - 157.26\n",
       "6                     Volume                   55,958,623\n",
       "7                Avg. Volume                   75,722,023\n",
       "8                 Market Cap                       2.461T\n",
       "9          Beta (5Y Monthly)                         1.21\n",
       "10            PE Ratio (TTM)                        26.74\n",
       "11                 EPS (TTM)                         5.61\n",
       "12             Earnings Date  Jan 25, 2022 - Jan 31, 2022\n",
       "13  Forward Dividend & Yield                 0.88 (0.59%)\n",
       "14          Ex-Dividend Date                 Nov 05, 2021\n",
       "15             1y Target Est                       168.45"
      ]
     },
     "execution_count": 12,
     "metadata": {},
     "output_type": "execute_result"
    }
   ],
   "source": [
    "a"
   ]
  },
  {
   "cell_type": "code",
   "execution_count": 13,
   "id": "b10171b1",
   "metadata": {},
   "outputs": [],
   "source": [
    "url1=\"https://en.wikipedia.org/wiki/List_of_S%26P_500_companies\"\n",
    "r = requests.get(url1)\n",
    "soup = bs(r.content)"
   ]
  },
  {
   "cell_type": "code",
   "execution_count": 20,
   "id": "b5d4697c",
   "metadata": {},
   "outputs": [
    {
     "name": "stdout",
     "output_type": "stream",
     "text": [
      "MMM\n",
      "\n",
      "ABT\n",
      "\n"
     ]
    }
   ],
   "source": [
    "tbody= soup.find_all('tbody')\n",
    "print(tbody[0].contents[2].contents[1].text)\n",
    "print(tbody[0].contents[4].contents[1].text)"
   ]
  },
  {
   "cell_type": "code",
   "execution_count": 32,
   "id": "d34303a8",
   "metadata": {},
   "outputs": [],
   "source": [
    "finalSymbol = 'ZTS'\n",
    "tickerSymbols = []\n",
    "\n",
    "for i in range(len(tbody[0].contents)):\n",
    "    if i<2:\n",
    "        continue\n",
    "    if i%2 != 0:\n",
    "        continue\n",
    "        \n",
    "    symbol = tbody[0].contents[i].contents[1].text\n",
    "    tickerSymbols.append(symbol.strip(\"\\n\"))\n",
    "    if len(tickerSymbols)==505:\n",
    "        break\n",
    "    #if symbol==finalSymbol:\n",
    "        #break"
   ]
  },
  {
   "cell_type": "code",
   "execution_count": 33,
   "id": "b112ba5a",
   "metadata": {},
   "outputs": [
    {
     "data": {
      "text/plain": [
       "505"
      ]
     },
     "execution_count": 33,
     "metadata": {},
     "output_type": "execute_result"
    }
   ],
   "source": [
    "len(tickerSymbols)"
   ]
  },
  {
   "cell_type": "code",
   "execution_count": 34,
   "id": "68246e74",
   "metadata": {},
   "outputs": [
    {
     "data": {
      "text/plain": [
       "'ZTS'"
      ]
     },
     "execution_count": 34,
     "metadata": {},
     "output_type": "execute_result"
    }
   ],
   "source": [
    "tickerSymbols[-1]"
   ]
  },
  {
   "cell_type": "code",
   "execution_count": 35,
   "id": "1156c39a",
   "metadata": {},
   "outputs": [
    {
     "data": {
      "text/plain": [
       "'MMM'"
      ]
     },
     "execution_count": 35,
     "metadata": {},
     "output_type": "execute_result"
    }
   ],
   "source": [
    "tickerSymbols[0]"
   ]
  },
  {
   "cell_type": "code",
   "execution_count": null,
   "id": "94885bf6",
   "metadata": {},
   "outputs": [],
   "source": [
    "\n",
    "  "
   ]
  },
  {
   "cell_type": "code",
   "execution_count": null,
   "id": "5c946e75",
   "metadata": {},
   "outputs": [],
   "source": []
  },
  {
   "cell_type": "code",
   "execution_count": null,
   "id": "209d95d2",
   "metadata": {},
   "outputs": [],
   "source": []
  },
  {
   "cell_type": "code",
   "execution_count": null,
   "id": "3fdf7251",
   "metadata": {},
   "outputs": [],
   "source": []
  }
 ],
 "metadata": {
  "kernelspec": {
   "display_name": "Python 3",
   "language": "python",
   "name": "python3"
  },
  "language_info": {
   "codemirror_mode": {
    "name": "ipython",
    "version": 3
   },
   "file_extension": ".py",
   "mimetype": "text/x-python",
   "name": "python",
   "nbconvert_exporter": "python",
   "pygments_lexer": "ipython3",
   "version": "3.8.8"
  }
 },
 "nbformat": 4,
 "nbformat_minor": 5
}
